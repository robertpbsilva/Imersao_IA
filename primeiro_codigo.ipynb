{
  "nbformat": 4,
  "nbformat_minor": 0,
  "metadata": {
    "colab": {
      "provenance": [],
      "authorship_tag": "ABX9TyPHQRuNrTIMJKzCkY1RcjDx",
      "include_colab_link": true
    },
    "kernelspec": {
      "name": "python3",
      "display_name": "Python 3"
    },
    "language_info": {
      "name": "python"
    }
  },
  "cells": [
    {
      "cell_type": "markdown",
      "metadata": {
        "id": "view-in-github",
        "colab_type": "text"
      },
      "source": [
        "<a href=\"https://colab.research.google.com/github/robertpbsilva/Imersao_IA/blob/main/primeiro_codigo.ipynb\" target=\"_parent\"><img src=\"https://colab.research.google.com/assets/colab-badge.svg\" alt=\"Open In Colab\"/></a>"
      ]
    },
    {
      "cell_type": "code",
      "execution_count": null,
      "metadata": {
        "colab": {
          "base_uri": "https://localhost:8080/"
        },
        "id": "a8gX8fZULVsg",
        "outputId": "a400adf2-d438-438a-8509-02b69a69bc26"
      },
      "outputs": [
        {
          "output_type": "stream",
          "name": "stdout",
          "text": [
            "A palavra secreta tem: 8 letras. Uma dica sobre a palavra: desenvolver aplicativos móveis e web com uma plataforma de backend escalável.. Qual a palavra secreta:teste\n",
            "errou\n",
            "firebase\n"
          ]
        }
      ],
      "source": [
        "#importando as bibliotecas capaz de realizar requisições\n",
        "import requests\n",
        "import random\n",
        "\n",
        "#Variável que armazena o endereço com os dados que eu quero\n",
        "url = 'https://raw.githubusercontent.com/guilhermeonrails/api-imersao-ia/main/words.json'\n",
        "\n",
        "#Fazendo um requisição e armazenado na variável resposta\n",
        "resposta = requests.get(url)\n",
        "\n",
        "#transformando a respota no formato JSON\n",
        "data = resposta.json()\n",
        "\n",
        "#imprimindo as informações contidas na variável Data\n",
        "#print(data)\n",
        "\n",
        "#imprimindo a quantidade de itens na variável Data\n",
        "#print(len(data))\n",
        "\n",
        "#Imprimindo uma linha específica na variável Data\n",
        "#print(data[0])\n",
        "\n",
        "#Pegando uma linha aleatório\n",
        "valor_secreto = random.choice(data)\n",
        "\n",
        "#Pegado um item passando um parâmetro\n",
        "palavra_secreta = valor_secreto['palavra']\n",
        "\n",
        "#Pegado um item passando um parâmetro\n",
        "dica = valor_secreto['dica']\n",
        "\n",
        "#Imprimindo e concatenando texto e variável. O f faz a concatenação\n",
        "#print(f'A palavra secreta tem: {len(palavra_secreta)} letras. Uma dica sobre a palavra: {dica}')\n",
        "\n",
        "#recebe o palpite\n",
        "chute = input(f'A palavra secreta tem: {len(palavra_secreta)} letras. Uma dica sobre a palavra: {dica}. Qual a palavra secreta:')\n",
        "\n",
        "#Verificando se o chute foi correto\n",
        "if chute == palavra_secreta:\n",
        "  print ('Acertou')\n",
        "  print(palavra_secreta)\n",
        "else:\n",
        "  print('errou')\n",
        "  print(palavra_secreta)"
      ]
    }
  ]
}